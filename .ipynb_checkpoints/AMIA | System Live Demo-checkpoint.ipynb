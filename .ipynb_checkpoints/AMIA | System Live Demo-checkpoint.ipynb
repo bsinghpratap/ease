{
 "cells": [
  {
   "cell_type": "markdown",
   "id": "empirical-fitting",
   "metadata": {},
   "source": [
    "## System Demo at AMIA Clinical Informatics 2022\n",
    "---------------------------------------------\n",
    "1. This notebook showcases the use of the SDOH extraction tool EASE\n",
    "2. The example sentence and the EHR is both synthetic and is not copied from an existing EHR\n",
    "\n",
    "[Github Repo](https://github.com/bsinghpratap/ease)"
   ]
  },
  {
   "cell_type": "code",
   "execution_count": null,
   "id": "egyptian-consideration",
   "metadata": {},
   "outputs": [],
   "source": [
    "import ease"
   ]
  },
  {
   "cell_type": "markdown",
   "id": "tropical-atlanta",
   "metadata": {},
   "source": [
    "### Setting up the config\n",
    "- Check out the configs/config_demo.json\n",
    "- This command helps in extracting all the SDOH CUIs from the statement or a paragraph provided to the function\n",
    "\n",
    "There are multiple flags that can be modified according to the user's need:\n",
    "1. print_op: Prints the extracted CUIs\n",
    "2. verbose_flag: Prints extra information extracted for the CUIs\n",
    "3. ehr_flag: Notifies the function if the input reference (inp_reference) is the path to an EHR"
   ]
  },
  {
   "cell_type": "code",
   "execution_count": null,
   "id": "leading-victory",
   "metadata": {
    "scrolled": true
   },
   "outputs": [],
   "source": [
    "op_sdoh_cuis = ease.get_sdoh_cuis(inp_reference='The patient is widowed and lives alone in [** Location (un) **]', \n",
    "                                  config_json='configs/config.json',\n",
    "                                  print_op=True, \n",
    "                                  verbose_flag=False,\n",
    "                                  ehr_flag=False)"
   ]
  },
  {
   "cell_type": "code",
   "execution_count": null,
   "id": "lesser-perth",
   "metadata": {
    "scrolled": false
   },
   "outputs": [],
   "source": [
    "op_sdoh_cuis = ease.get_sdoh_cuis(inp_reference='ehrs/synthetic_EHR_example.txt', \n",
    "                                  config_json='configs/config.json',\n",
    "                                  print_op=True, \n",
    "                                  verbose_flag=False,\n",
    "                                  ehr_flag=True)"
   ]
  },
  {
   "cell_type": "code",
   "execution_count": null,
   "id": "soviet-miami",
   "metadata": {},
   "outputs": [],
   "source": [
    "op_sdoh_cuis = ease.get_sdoh_cuis(inp_reference='ehrs/synthetic_EHR_example.txt', \n",
    "                                  config_json='configs/config_mental_dys.json',\n",
    "                                  print_op=True, \n",
    "                                  verbose_flag=False,\n",
    "                                  ehr_flag=True)"
   ]
  },
  {
   "cell_type": "markdown",
   "id": "geographic-baking",
   "metadata": {},
   "source": [
    "### Extract All CUIs"
   ]
  },
  {
   "cell_type": "code",
   "execution_count": null,
   "id": "dying-grave",
   "metadata": {
    "scrolled": true
   },
   "outputs": [],
   "source": [
    "op_sdoh_cuis = ease.get_all_cuis(inp_reference='The patient is widowed and lives alone in [** Location (un) **]', \n",
    "                                 print_op=True, \n",
    "                                 verbose_flag=False,\n",
    "                                 ehr_flag=False)"
   ]
  },
  {
   "cell_type": "markdown",
   "id": "discrete-shopper",
   "metadata": {},
   "source": [
    "# Additional Features include:\n",
    "1. Getting all the information related to a particular CUI from UMLS\n",
    "2. Checking if two CUIs are connected via a relationship or not"
   ]
  },
  {
   "cell_type": "code",
   "execution_count": null,
   "id": "forward-picnic",
   "metadata": {},
   "outputs": [],
   "source": [
    "ease.get_data_cui(curr_cui='C1634625', config_json='configs/config.json')"
   ]
  },
  {
   "cell_type": "code",
   "execution_count": null,
   "id": "lined-accommodation",
   "metadata": {},
   "outputs": [],
   "source": [
    "ease.get_data_cui(curr_cui='C0206275', config_json='configs/config.json').head()"
   ]
  },
  {
   "cell_type": "code",
   "execution_count": null,
   "id": "general-census",
   "metadata": {},
   "outputs": [],
   "source": [
    "ease.are_they_connected(CUI1='C1634625', \n",
    "                        CUI2='C1548795',\n",
    "                        config_json='configs/config.json')[1]"
   ]
  },
  {
   "cell_type": "code",
   "execution_count": null,
   "id": "ruled-spiritual",
   "metadata": {},
   "outputs": [],
   "source": [
    "ease.get_data_cui(curr_cui='C1548795', config_json='configs/config.json').head()"
   ]
  },
  {
   "cell_type": "code",
   "execution_count": null,
   "id": "martial-wallet",
   "metadata": {},
   "outputs": [],
   "source": [
    "ease.are_they_connected(CUI1='C1634625', \n",
    "                        CUI2='C0206275',\n",
    "                        config_json='configs/config.json')"
   ]
  },
  {
   "cell_type": "code",
   "execution_count": null,
   "id": "pleased-stewart",
   "metadata": {},
   "outputs": [],
   "source": []
  },
  {
   "cell_type": "code",
   "execution_count": null,
   "id": "contemporary-paradise",
   "metadata": {},
   "outputs": [],
   "source": []
  }
 ],
 "metadata": {
  "kernelspec": {
   "display_name": "Python 3",
   "language": "python",
   "name": "python3"
  },
  "language_info": {
   "codemirror_mode": {
    "name": "ipython",
    "version": 3
   },
   "file_extension": ".py",
   "mimetype": "text/x-python",
   "name": "python",
   "nbconvert_exporter": "python",
   "pygments_lexer": "ipython3",
   "version": "3.7.10"
  }
 },
 "nbformat": 4,
 "nbformat_minor": 5
}
