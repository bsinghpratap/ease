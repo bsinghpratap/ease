{
 "cells": [
  {
   "cell_type": "code",
   "execution_count": 2,
   "id": "essential-intermediate",
   "metadata": {},
   "outputs": [],
   "source": [
    "import pandas as pd\n",
    "import pickle as pkl\n",
    "import mysql.connector\n",
    "from tqdm.notebook import tqdm\n",
    "from collections import Counter\n",
    "from random import shuffle\n",
    "from pymetamap import MetaMap"
   ]
  },
  {
   "cell_type": "code",
   "execution_count": 2,
   "id": "statewide-description",
   "metadata": {},
   "outputs": [],
   "source": [
    "(dict_defs, dict_relations, dict_semantic_types, \n",
    "          loinc_cuis, all_key_based_cuis, \n",
    "          loinc_depth_1, key_depth_1, \n",
    "          loinc_depth_2, key_depth_2,\n",
    "          family_cuis, loinc_filtered_cuis,\n",
    "          key_filtered_cuis, key_filtered_cuis_reduced,\n",
    "          dict_og_category_assignment, dict_va_categories,\n",
    "          selected_cuis_after_reduced_filtering\n",
    "         ) = pkl.load(open('../data/cui_april_20th_1.pkl', 'rb'))"
   ]
  },
  {
   "cell_type": "code",
   "execution_count": 3,
   "id": "excellent-macintosh",
   "metadata": {},
   "outputs": [
    {
     "data": {
      "text/plain": [
       "198677"
      ]
     },
     "execution_count": 3,
     "metadata": {},
     "output_type": "execute_result"
    }
   ],
   "source": [
    "selected_cuis_after_reduced_filtering.__len__()"
   ]
  },
  {
   "cell_type": "code",
   "execution_count": 4,
   "id": "reduced-windsor",
   "metadata": {},
   "outputs": [
    {
     "data": {
      "text/plain": [
       "set"
      ]
     },
     "execution_count": 4,
     "metadata": {},
     "output_type": "execute_result"
    }
   ],
   "source": [
    "type(selected_cuis_after_reduced_filtering)"
   ]
  },
  {
   "cell_type": "code",
   "execution_count": 5,
   "id": "joined-telephone",
   "metadata": {},
   "outputs": [],
   "source": [
    "for each_cui in selected_cuis_after_reduced_filtering: \n",
    "    if each_cui not in dict_defs:\n",
    "        exit_"
   ]
  },
  {
   "cell_type": "code",
   "execution_count": 13,
   "id": "distinguished-video",
   "metadata": {},
   "outputs": [],
   "source": [
    "for each_cui in selected_cuis_after_reduced_filtering: \n",
    "    if each_cui not in dict_semantic_types:\n",
    "        exit_"
   ]
  },
  {
   "cell_type": "code",
   "execution_count": 11,
   "id": "alternative-probe",
   "metadata": {},
   "outputs": [
    {
     "data": {
      "text/plain": [
       "132163"
      ]
     },
     "execution_count": 11,
     "metadata": {},
     "output_type": "execute_result"
    }
   ],
   "source": [
    "sum([dict_og_category_assignment[x].__len__() for x in dict_og_category_assignment])"
   ]
  },
  {
   "cell_type": "code",
   "execution_count": 6,
   "id": "delayed-couple",
   "metadata": {},
   "outputs": [
    {
     "data": {
      "text/plain": [
       "'C0430578'"
      ]
     },
     "execution_count": 6,
     "metadata": {},
     "output_type": "execute_result"
    }
   ],
   "source": [
    "each_cui"
   ]
  },
  {
   "cell_type": "code",
   "execution_count": 14,
   "id": "accompanied-launch",
   "metadata": {},
   "outputs": [
    {
     "data": {
      "text/html": [
       "<div>\n",
       "<style scoped>\n",
       "    .dataframe tbody tr th:only-of-type {\n",
       "        vertical-align: middle;\n",
       "    }\n",
       "\n",
       "    .dataframe tbody tr th {\n",
       "        vertical-align: top;\n",
       "    }\n",
       "\n",
       "    .dataframe thead th {\n",
       "        text-align: right;\n",
       "    }\n",
       "</style>\n",
       "<table border=\"1\" class=\"dataframe\">\n",
       "  <thead>\n",
       "    <tr style=\"text-align: right;\">\n",
       "      <th></th>\n",
       "      <th>CUI</th>\n",
       "      <th>LAT</th>\n",
       "      <th>TS</th>\n",
       "      <th>LUI</th>\n",
       "      <th>STT</th>\n",
       "      <th>SUI</th>\n",
       "      <th>ISPREF</th>\n",
       "      <th>AUI</th>\n",
       "      <th>SAUI</th>\n",
       "      <th>SCUI</th>\n",
       "      <th>SDUI</th>\n",
       "      <th>SAB</th>\n",
       "      <th>TTY</th>\n",
       "      <th>CODE</th>\n",
       "      <th>STR</th>\n",
       "      <th>SRL</th>\n",
       "      <th>SUPPRESS</th>\n",
       "      <th>CVF</th>\n",
       "    </tr>\n",
       "  </thead>\n",
       "  <tbody>\n",
       "    <tr>\n",
       "      <th>0</th>\n",
       "      <td>C0430578</td>\n",
       "      <td>ENG</td>\n",
       "      <td>P</td>\n",
       "      <td>L0878795</td>\n",
       "      <td>PF</td>\n",
       "      <td>S0989706</td>\n",
       "      <td>N</td>\n",
       "      <td>A1047893</td>\n",
       "      <td>None</td>\n",
       "      <td>None</td>\n",
       "      <td>None</td>\n",
       "      <td>RCD</td>\n",
       "      <td>PT</td>\n",
       "      <td>X77eF</td>\n",
       "      <td>Photo patch test</td>\n",
       "      <td>3</td>\n",
       "      <td>N</td>\n",
       "      <td>256.0</td>\n",
       "    </tr>\n",
       "    <tr>\n",
       "      <th>1</th>\n",
       "      <td>C0430578</td>\n",
       "      <td>ENG</td>\n",
       "      <td>S</td>\n",
       "      <td>L7046589</td>\n",
       "      <td>PF</td>\n",
       "      <td>S8733141</td>\n",
       "      <td>Y</td>\n",
       "      <td>A13612548</td>\n",
       "      <td>None</td>\n",
       "      <td>18454</td>\n",
       "      <td>None</td>\n",
       "      <td>MEDCIN</td>\n",
       "      <td>FN</td>\n",
       "      <td>18454</td>\n",
       "      <td>allergy testing photo patch tests (lab test)</td>\n",
       "      <td>3</td>\n",
       "      <td>N</td>\n",
       "      <td>NaN</td>\n",
       "    </tr>\n",
       "    <tr>\n",
       "      <th>2</th>\n",
       "      <td>C0430578</td>\n",
       "      <td>ENG</td>\n",
       "      <td>S</td>\n",
       "      <td>L7193144</td>\n",
       "      <td>PF</td>\n",
       "      <td>S8733152</td>\n",
       "      <td>Y</td>\n",
       "      <td>A13648045</td>\n",
       "      <td>None</td>\n",
       "      <td>18454</td>\n",
       "      <td>None</td>\n",
       "      <td>MEDCIN</td>\n",
       "      <td>PT</td>\n",
       "      <td>18454</td>\n",
       "      <td>allergy testing photo patch tests</td>\n",
       "      <td>3</td>\n",
       "      <td>N</td>\n",
       "      <td>NaN</td>\n",
       "    </tr>\n",
       "    <tr>\n",
       "      <th>3</th>\n",
       "      <td>C0430578</td>\n",
       "      <td>ENG</td>\n",
       "      <td>P</td>\n",
       "      <td>L0878795</td>\n",
       "      <td>VO</td>\n",
       "      <td>S9146653</td>\n",
       "      <td>Y</td>\n",
       "      <td>A15298241</td>\n",
       "      <td>None</td>\n",
       "      <td>18454</td>\n",
       "      <td>None</td>\n",
       "      <td>MEDCIN</td>\n",
       "      <td>SY</td>\n",
       "      <td>18454</td>\n",
       "      <td>photo patch tests</td>\n",
       "      <td>3</td>\n",
       "      <td>N</td>\n",
       "      <td>NaN</td>\n",
       "    </tr>\n",
       "    <tr>\n",
       "      <th>4</th>\n",
       "      <td>C0430578</td>\n",
       "      <td>ENG</td>\n",
       "      <td>S</td>\n",
       "      <td>L0875356</td>\n",
       "      <td>PF</td>\n",
       "      <td>S1799820</td>\n",
       "      <td>Y</td>\n",
       "      <td>A1751404</td>\n",
       "      <td>None</td>\n",
       "      <td>95052</td>\n",
       "      <td>None</td>\n",
       "      <td>CPT</td>\n",
       "      <td>PT</td>\n",
       "      <td>95052</td>\n",
       "      <td>Photo patch test(s) (specify number of tests)</td>\n",
       "      <td>3</td>\n",
       "      <td>N</td>\n",
       "      <td>NaN</td>\n",
       "    </tr>\n",
       "  </tbody>\n",
       "</table>\n",
       "</div>"
      ],
      "text/plain": [
       "        CUI  LAT TS       LUI STT       SUI ISPREF        AUI  SAUI   SCUI  \\\n",
       "0  C0430578  ENG  P  L0878795  PF  S0989706      N   A1047893  None   None   \n",
       "1  C0430578  ENG  S  L7046589  PF  S8733141      Y  A13612548  None  18454   \n",
       "2  C0430578  ENG  S  L7193144  PF  S8733152      Y  A13648045  None  18454   \n",
       "3  C0430578  ENG  P  L0878795  VO  S9146653      Y  A15298241  None  18454   \n",
       "4  C0430578  ENG  S  L0875356  PF  S1799820      Y   A1751404  None  95052   \n",
       "\n",
       "   SDUI     SAB TTY   CODE                                            STR  \\\n",
       "0  None     RCD  PT  X77eF                               Photo patch test   \n",
       "1  None  MEDCIN  FN  18454   allergy testing photo patch tests (lab test)   \n",
       "2  None  MEDCIN  PT  18454              allergy testing photo patch tests   \n",
       "3  None  MEDCIN  SY  18454                              photo patch tests   \n",
       "4  None     CPT  PT  95052  Photo patch test(s) (specify number of tests)   \n",
       "\n",
       "   SRL SUPPRESS    CVF  \n",
       "0    3        N  256.0  \n",
       "1    3        N    NaN  \n",
       "2    3        N    NaN  \n",
       "3    3        N    NaN  \n",
       "4    3        N    NaN  "
      ]
     },
     "execution_count": 14,
     "metadata": {},
     "output_type": "execute_result"
    }
   ],
   "source": [
    "dict_defs[each_cui].head()"
   ]
  },
  {
   "cell_type": "code",
   "execution_count": 16,
   "id": "pressed-catholic",
   "metadata": {},
   "outputs": [
    {
     "data": {
      "text/plain": [
       "(        CUI   TUI       STN                   STY        ATUI  CVF\n",
       " 0  C0430578  T060  B1.3.1.2  Diagnostic Procedure  AT89418668  256,\n",
       " {'Diagnostic Procedure'})"
      ]
     },
     "execution_count": 16,
     "metadata": {},
     "output_type": "execute_result"
    }
   ],
   "source": [
    "dict_semantic_types[each_cui]"
   ]
  },
  {
   "cell_type": "code",
   "execution_count": 17,
   "id": "italic-mission",
   "metadata": {},
   "outputs": [
    {
     "data": {
      "application/vnd.jupyter.widget-view+json": {
       "model_id": "502cbfa888fb4c9192ccf5c45e194a29",
       "version_major": 2,
       "version_minor": 0
      },
      "text/plain": [
       "  0%|          | 0/198677 [00:00<?, ?it/s]"
      ]
     },
     "metadata": {},
     "output_type": "display_data"
    }
   ],
   "source": [
    "dict_final = {}\n",
    "dict_final['cuis'] = selected_cuis_after_reduced_filtering\n",
    "dict_final['cui_defs'] = {}\n",
    "dict_final['cui_stys'] = {}\n",
    "for each_cui in tqdm(dict_final['cuis']):\n",
    "    dict_final['cui_defs'][each_cui] = dict_defs[each_cui]['STR'].tolist()\n",
    "    dict_final['cui_stys'][each_cui] = dict_semantic_types[each_cui][-1]"
   ]
  },
  {
   "cell_type": "code",
   "execution_count": 19,
   "id": "instant-rotation",
   "metadata": {},
   "outputs": [
    {
     "data": {
      "text/plain": [
       "['Photo patch test',\n",
       " 'allergy testing photo patch tests (lab test)',\n",
       " 'allergy testing photo patch tests',\n",
       " 'photo patch tests',\n",
       " 'Photo patch test(s) (specify number of tests)',\n",
       " 'PHOTO PATCH TEST SPECIFY NUMBER TSTS',\n",
       " 'Photo patch test',\n",
       " 'Photo patch test',\n",
       " 'Photo patch test (procedure)',\n",
       " 'Photo patch test',\n",
       " 'PHOTO PATCH TEST']"
      ]
     },
     "execution_count": 19,
     "metadata": {},
     "output_type": "execute_result"
    }
   ],
   "source": [
    "dict_final['cui_defs']['C0430578']"
   ]
  },
  {
   "cell_type": "code",
   "execution_count": 20,
   "id": "progressive-medicaid",
   "metadata": {},
   "outputs": [
    {
     "data": {
      "text/plain": [
       "{'Diagnostic Procedure'}"
      ]
     },
     "execution_count": 20,
     "metadata": {},
     "output_type": "execute_result"
    }
   ],
   "source": [
    "dict_final['cui_stys']['C0430578']"
   ]
  },
  {
   "cell_type": "code",
   "execution_count": 21,
   "id": "knowing-temple",
   "metadata": {},
   "outputs": [],
   "source": [
    "dict_final['readme'] = 'Look at the ipynb: AMIA | System Demo '"
   ]
  },
  {
   "cell_type": "code",
   "execution_count": 22,
   "id": "grand-thought",
   "metadata": {},
   "outputs": [],
   "source": [
    "pkl.dump(dict_final, open('../data/dict_system_demo_may25.pkl', 'wb'))"
   ]
  },
  {
   "cell_type": "markdown",
   "id": "specialized-brazilian",
   "metadata": {},
   "source": [
    "## For the demo\n",
    "---------------------"
   ]
  },
  {
   "cell_type": "code",
   "execution_count": 32,
   "id": "objective-officer",
   "metadata": {},
   "outputs": [],
   "source": [
    "dict_final = pkl.load(open('../data/dict_system_demo_may25.pkl', 'rb'))"
   ]
  },
  {
   "cell_type": "code",
   "execution_count": 11,
   "id": "agricultural-miller",
   "metadata": {},
   "outputs": [],
   "source": [
    "mm = MetaMap.get_instance('/data/Software/metamap_2020/public_mm/bin/metamap20') "
   ]
  },
  {
   "cell_type": "code",
   "execution_count": 54,
   "id": "improved-supervision",
   "metadata": {
    "scrolled": true
   },
   "outputs": [],
   "source": [
    "def get_metamap_output(txt_):\n",
    "    output = mm.extract_concepts([txt_], [0])[0]\n",
    "    return output"
   ]
  },
  {
   "cell_type": "code",
   "execution_count": 35,
   "id": "blank-custom",
   "metadata": {},
   "outputs": [],
   "source": [
    "def get_longest_def(list_):\n",
    "    len_ = 0\n",
    "    def_ = ''\n",
    "    for each_ in list_:\n",
    "        if each_.__len__()>len_:\n",
    "            def_ = each_\n",
    "            len_ = each_.__len__()\n",
    "    return def_"
   ]
  },
  {
   "cell_type": "code",
   "execution_count": 85,
   "id": "liquid-formula",
   "metadata": {},
   "outputs": [],
   "source": [
    "inp_txt = 'The patient is widowed and lives alone in [** Location (un) **]'\n",
    "verbose_flag = False\n",
    "file_name = 'synthetic_EHR_example.txt'"
   ]
  },
  {
   "cell_type": "code",
   "execution_count": 82,
   "id": "liable-conversion",
   "metadata": {},
   "outputs": [],
   "source": [
    "inp_txt = open(file_name).read()"
   ]
  },
  {
   "cell_type": "code",
   "execution_count": 86,
   "id": "smoking-sauce",
   "metadata": {},
   "outputs": [],
   "source": [
    "# output = get_metamap_output(inp_txt)\n",
    "output = get_metamap_output(inp_txt)"
   ]
  },
  {
   "cell_type": "code",
   "execution_count": 89,
   "id": "limited-draft",
   "metadata": {
    "scrolled": true
   },
   "outputs": [
    {
     "name": "stdout",
     "output_type": "stream",
     "text": [
      "====================================================================================================\n",
      "                              All extracted SDOH CUIs\n",
      "====================================================================================================\n",
      "Extracted Phrase: lives\n",
      "CUI: C0595998\n",
      "Definition: Household composition\n",
      "Semantic Type(s): ['Finding']\n",
      "----------------------------------------------------------------------------------------------------\n",
      "Extracted Phrase: patient\n",
      "CUI: C0030705\n",
      "Definition: Patients\n",
      "Semantic Type(s): ['Patient or Disabled Group']\n",
      "----------------------------------------------------------------------------------------------------\n",
      "Extracted Phrase: widowed\n",
      "CUI: C1510465\n",
      "Definition: Widow\n",
      "Semantic Type(s): ['Family Group']\n",
      "----------------------------------------------------------------------------------------------------\n",
      "Extracted Phrase: widowed\n",
      "CUI: C0206275\n",
      "Definition: Widowhood\n",
      "Semantic Type(s): ['Finding']\n",
      "----------------------------------------------------------------------------------------------------\n",
      "Extracted Phrase: alone\n",
      "CUI: C0439044\n",
      "Definition: Living Alone\n",
      "Semantic Type(s): ['Finding']\n",
      "----------------------------------------------------------------------------------------------------\n",
      "Extracted Phrase: alone\n",
      "CUI: C0679994\n",
      "Definition: alone - group size\n",
      "Semantic Type(s): ['Group Attribute']\n",
      "----------------------------------------------------------------------------------------------------\n"
     ]
    }
   ],
   "source": [
    "print('=='*50)\n",
    "print(' '*30+'All extracted SDOH CUIs')\n",
    "print('=='*50)\n",
    "op_dict = []\n",
    "for each_concept in output:\n",
    "    if each_concept.cui in dict_final['cuis']:\n",
    "        pos_info = each_concept.pos_info.split(',')[0].replace('[', '')\n",
    "        pos_info = pos_info.replace(']', '')\n",
    "        \n",
    "        start_idx = int(pos_info.split('/')[0])-1\n",
    "        end_idx = start_idx+int(pos_info.split('/')[1])\n",
    "        \n",
    "        print('Extracted Phrase:', inp_txt[start_idx:end_idx])\n",
    "        print('CUI:', each_concept.cui)\n",
    "#         print(each_concept.cui, each_concept.cui in dict_final['cuis'])\n",
    "        print('Definition:', each_concept.preferred_name)\n",
    "        print('Semantic Type(s):', [x for x in dict_final['cui_stys'][each_concept.cui]])\n",
    "        \n",
    "        op_dict.append({'cui': each_concept.cui, \n",
    "                        'phrase': inp_txt[start_idx:end_idx],\n",
    "                        'def': each_concept.preferred_name,\n",
    "                        'stys': [x for x in dict_final['cui_stys'][each_concept.cui]]\n",
    "                       })\n",
    "        \n",
    "        if verbose_flag:\n",
    "            print('All Definitions:', dict_final['cui_defs'][each_concept.cui])\n",
    "            print('Start, End:', (start_idx, end_idx))\n",
    "        print('--'*50)"
   ]
  },
  {
   "cell_type": "code",
   "execution_count": 42,
   "id": "worth-conclusion",
   "metadata": {},
   "outputs": [
    {
     "data": {
      "text/plain": [
       "Counter({1: 197852, 2: 810, 3: 15})"
      ]
     },
     "execution_count": 42,
     "metadata": {},
     "output_type": "execute_result"
    }
   ],
   "source": [
    "Counter([dict_final['cui_stys'][x].__len__() for x in dict_final['cuis']])"
   ]
  },
  {
   "cell_type": "code",
   "execution_count": 44,
   "id": "unavailable-lease",
   "metadata": {},
   "outputs": [
    {
     "data": {
      "text/plain": [
       "ConceptMMI(index='0', mm='MMI', score='3.64', preferred_name='alone - group size', cui='C0679994', semtypes='[grpa]', trigger='[\"alone\"-tx-1-\"alone\"-adj-0]', location='TX', pos_info='34/5', tree_codes='')"
      ]
     },
     "execution_count": 44,
     "metadata": {},
     "output_type": "execute_result"
    }
   ],
   "source": [
    "each_concept"
   ]
  },
  {
   "cell_type": "code",
   "execution_count": 57,
   "id": "younger-supplement",
   "metadata": {},
   "outputs": [
    {
     "data": {
      "text/plain": [
       "'alone'"
      ]
     },
     "execution_count": 57,
     "metadata": {},
     "output_type": "execute_result"
    }
   ],
   "source": [
    "inp_txt[34-1:38]"
   ]
  },
  {
   "cell_type": "code",
   "execution_count": 90,
   "id": "empty-extraction",
   "metadata": {},
   "outputs": [
    {
     "data": {
      "text/plain": [
       "[{'cui': 'C0595998',\n",
       "  'phrase': 'lives',\n",
       "  'def': 'Household composition',\n",
       "  'stys': ['Finding']},\n",
       " {'cui': 'C0030705',\n",
       "  'phrase': 'patient',\n",
       "  'def': 'Patients',\n",
       "  'stys': ['Patient or Disabled Group']},\n",
       " {'cui': 'C1510465',\n",
       "  'phrase': 'widowed',\n",
       "  'def': 'Widow',\n",
       "  'stys': ['Family Group']},\n",
       " {'cui': 'C0206275',\n",
       "  'phrase': 'widowed',\n",
       "  'def': 'Widowhood',\n",
       "  'stys': ['Finding']},\n",
       " {'cui': 'C0439044',\n",
       "  'phrase': 'alone',\n",
       "  'def': 'Living Alone',\n",
       "  'stys': ['Finding']},\n",
       " {'cui': 'C0679994',\n",
       "  'phrase': 'alone',\n",
       "  'def': 'alone - group size',\n",
       "  'stys': ['Group Attribute']}]"
      ]
     },
     "execution_count": 90,
     "metadata": {},
     "output_type": "execute_result"
    }
   ],
   "source": [
    "op_dict"
   ]
  },
  {
   "cell_type": "code",
   "execution_count": null,
   "id": "biblical-atlantic",
   "metadata": {},
   "outputs": [],
   "source": []
  },
  {
   "cell_type": "markdown",
   "id": "killing-accent",
   "metadata": {},
   "source": [
    "## Final Demo\n",
    "--------------"
   ]
  },
  {
   "cell_type": "code",
   "execution_count": 1,
   "id": "egyptian-consideration",
   "metadata": {},
   "outputs": [],
   "source": [
    "import ease\n",
    "import json"
   ]
  },
  {
   "cell_type": "code",
   "execution_count": 2,
   "id": "separated-button",
   "metadata": {},
   "outputs": [],
   "source": [
    "# chk = 'The patient is widowed and lives alone in [** Location (un) **]'"
   ]
  },
  {
   "cell_type": "code",
   "execution_count": 3,
   "id": "micro-worth",
   "metadata": {},
   "outputs": [],
   "source": [
    "# json.load(open('config.json'))['semantic_types'].split(',')"
   ]
  },
  {
   "cell_type": "code",
   "execution_count": 2,
   "id": "leading-victory",
   "metadata": {
    "scrolled": true
   },
   "outputs": [
    {
     "name": "stdout",
     "output_type": "stream",
     "text": [
      "====================================================================================================\n",
      "                              Extracted SDOH CUIs\n",
      "====================================================================================================\n",
      "Extracted Phrase: lives\n",
      "CUI: C0595998\n",
      "Definition: Household composition\n",
      "Semantic Type(s): ['Finding']\n",
      "----------------------------------------------------------------------------------------------------\n",
      "Extracted Phrase: patient\n",
      "CUI: C0030705\n",
      "Definition: Patients\n",
      "Semantic Type(s): ['Patient or Disabled Group']\n",
      "----------------------------------------------------------------------------------------------------\n",
      "Extracted Phrase: widowed\n",
      "CUI: C1510465\n",
      "Definition: Widow\n",
      "Semantic Type(s): ['Family Group']\n",
      "----------------------------------------------------------------------------------------------------\n",
      "Extracted Phrase: widowed\n",
      "CUI: C0206275\n",
      "Definition: Widowhood\n",
      "Semantic Type(s): ['Finding']\n",
      "----------------------------------------------------------------------------------------------------\n",
      "Extracted Phrase: alone\n",
      "CUI: C0439044\n",
      "Definition: Living Alone\n",
      "Semantic Type(s): ['Finding']\n",
      "----------------------------------------------------------------------------------------------------\n",
      "Extracted Phrase: alone\n",
      "CUI: C0679994\n",
      "Definition: alone - group size\n",
      "Semantic Type(s): ['Group Attribute']\n",
      "----------------------------------------------------------------------------------------------------\n"
     ]
    }
   ],
   "source": [
    "op_sdoh_cuis = ease.get_sdoh_cuis(inp_reference='The patient is widowed and lives alone in [** Location (un) **]', \n",
    "                                  config_json='config.json',\n",
    "                                  print_op=True, \n",
    "                                  verbose_flag=False,\n",
    "                                  ehr_flag=False)"
   ]
  },
  {
   "cell_type": "code",
   "execution_count": 3,
   "id": "lesser-perth",
   "metadata": {
    "scrolled": true
   },
   "outputs": [
    {
     "name": "stdout",
     "output_type": "stream",
     "text": [
      "====================================================================================================\n",
      "                              Extracted SDOH CUIs\n",
      "====================================================================================================\n",
      "Extracted Phrase: husband\n",
      "CUI: C0242664\n",
      "Definition: husband\n",
      "Semantic Type(s): ['Family Group']\n",
      "----------------------------------------------------------------------------------------------------\n",
      "Extracted Phrase: lives\n",
      "CUI: C0595998\n",
      "Definition: Household composition\n",
      "Semantic Type(s): ['Finding']\n",
      "----------------------------------------------------------------------------------------------------\n",
      "Extracted Phrase: patient\n",
      "CUI: C0030705\n",
      "Definition: Patients\n",
      "Semantic Type(s): ['Patient or Disabled Group']\n",
      "----------------------------------------------------------------------------------------------------\n",
      "Extracted Phrase: widowed\n",
      "CUI: C1510465\n",
      "Definition: Widow\n",
      "Semantic Type(s): ['Family Group']\n",
      "----------------------------------------------------------------------------------------------------\n",
      "Extracted Phrase: widowed\n",
      "CUI: C0206275\n",
      "Definition: Widowhood\n",
      "Semantic Type(s): ['Finding']\n",
      "----------------------------------------------------------------------------------------------------\n",
      "Extracted Phrase: alone\n",
      "CUI: C0439044\n",
      "Definition: Living Alone\n",
      "Semantic Type(s): ['Finding']\n",
      "----------------------------------------------------------------------------------------------------\n",
      "Extracted Phrase: alone\n",
      "CUI: C0679994\n",
      "Definition: alone - group size\n",
      "Semantic Type(s): ['Group Attribute']\n",
      "----------------------------------------------------------------------------------------------------\n",
      "Extracted Phrase: depression\n",
      "CUI: C0344315\n",
      "Definition: Depressed mood\n",
      "Semantic Type(s): ['Mental or Behavioral Dysfunction']\n",
      "----------------------------------------------------------------------------------------------------\n",
      "Extracted Phrase: depression\n",
      "CUI: C0011581\n",
      "Definition: Depressive disorder\n",
      "Semantic Type(s): ['Mental or Behavioral Dysfunction']\n",
      "----------------------------------------------------------------------------------------------------\n",
      "Extracted Phrase: depression\n",
      "CUI: C0011570\n",
      "Definition: Mental Depression\n",
      "Semantic Type(s): ['Mental or Behavioral Dysfunction']\n",
      "----------------------------------------------------------------------------------------------------\n",
      "Extracted Phrase: suffering\n",
      "CUI: C0683278\n",
      "Definition: Mental Suffering\n",
      "Semantic Type(s): ['Mental or Behavioral Dysfunction']\n",
      "----------------------------------------------------------------------------------------------------\n",
      "Extracted Phrase: separation\n",
      "CUI: C0237868\n",
      "Definition: Marital separation\n",
      "Semantic Type(s): ['Social Behavior']\n",
      "----------------------------------------------------------------------------------------------------\n"
     ]
    }
   ],
   "source": [
    "op_sdoh_cuis = ease.get_sdoh_cuis(inp_reference='synthetic_EHR_example.txt', \n",
    "                                  config_json='config.json',\n",
    "                                  print_op=True, \n",
    "                                  verbose_flag=False,\n",
    "                                  ehr_flag=True)"
   ]
  },
  {
   "cell_type": "code",
   "execution_count": 4,
   "id": "soviet-miami",
   "metadata": {},
   "outputs": [
    {
     "name": "stdout",
     "output_type": "stream",
     "text": [
      "====================================================================================================\n",
      "                              Extracted SDOH CUIs\n",
      "====================================================================================================\n",
      "Extracted Phrase: depression\n",
      "CUI: C0344315\n",
      "Definition: Depressed mood\n",
      "Semantic Type(s): ['Mental or Behavioral Dysfunction']\n",
      "----------------------------------------------------------------------------------------------------\n",
      "Extracted Phrase: depression\n",
      "CUI: C0011581\n",
      "Definition: Depressive disorder\n",
      "Semantic Type(s): ['Mental or Behavioral Dysfunction']\n",
      "----------------------------------------------------------------------------------------------------\n",
      "Extracted Phrase: depression\n",
      "CUI: C0011570\n",
      "Definition: Mental Depression\n",
      "Semantic Type(s): ['Mental or Behavioral Dysfunction']\n",
      "----------------------------------------------------------------------------------------------------\n",
      "Extracted Phrase: suffering\n",
      "CUI: C0683278\n",
      "Definition: Mental Suffering\n",
      "Semantic Type(s): ['Mental or Behavioral Dysfunction']\n",
      "----------------------------------------------------------------------------------------------------\n"
     ]
    }
   ],
   "source": [
    "op_sdoh_cuis = ease.get_sdoh_cuis(inp_reference='synthetic_EHR_example.txt', \n",
    "                                  config_json='config_mental_dys.json',\n",
    "                                  print_op=True, \n",
    "                                  verbose_flag=False,\n",
    "                                  ehr_flag=True)"
   ]
  },
  {
   "cell_type": "code",
   "execution_count": 6,
   "id": "dying-grave",
   "metadata": {
    "scrolled": true
   },
   "outputs": [
    {
     "name": "stdout",
     "output_type": "stream",
     "text": [
      "====================================================================================================\n",
      "                              Extracted SDOH CUIs\n",
      "====================================================================================================\n",
      "Extracted Phrase: lives\n",
      "CUI: C1634625\n",
      "Definition: % live\n",
      "Semantic Type(s): [qlco]\n",
      "----------------------------------------------------------------------------------------------------\n",
      "Extracted Phrase: Location\n",
      "CUI: C1515974\n",
      "Definition: Anatomic Site\n",
      "Semantic Type(s): [blor]\n",
      "----------------------------------------------------------------------------------------------------\n",
      "Extracted Phrase: lives\n",
      "CUI: C0595998\n",
      "Definition: Household composition\n",
      "Semantic Type(s): [fndg]\n",
      "----------------------------------------------------------------------------------------------------\n",
      "Extracted Phrase: lives\n",
      "CUI: C1548795\n",
      "Definition: Live - Specimen Condition\n",
      "Semantic Type(s): [qlco]\n",
      "----------------------------------------------------------------------------------------------------\n",
      "Extracted Phrase: Location\n",
      "CUI: C0450429\n",
      "Definition: Location\n",
      "Semantic Type(s): [spco]\n",
      "----------------------------------------------------------------------------------------------------\n",
      "Extracted Phrase: Location\n",
      "CUI: C4284931\n",
      "Definition: Location of Oral Residue Following Swallowing\n",
      "Semantic Type(s): [fndg]\n",
      "----------------------------------------------------------------------------------------------------\n",
      "Extracted Phrase: Location\n",
      "CUI: C4284930\n",
      "Definition: Location of Pharyngeal Residue Following Swallowing\n",
      "Semantic Type(s): [fndg]\n",
      "----------------------------------------------------------------------------------------------------\n",
      "Extracted Phrase: un\n",
      "CUI: C4722050\n",
      "Definition: National Drug Code Unit\n",
      "Semantic Type(s): [qnco]\n",
      "----------------------------------------------------------------------------------------------------\n",
      "Extracted Phrase: patient\n",
      "CUI: C0030705\n",
      "Definition: Patients\n",
      "Semantic Type(s): [podg]\n",
      "----------------------------------------------------------------------------------------------------\n",
      "Extracted Phrase: lives\n",
      "CUI: C2982691\n",
      "Definition: Reside\n",
      "Semantic Type(s): [acty]\n",
      "----------------------------------------------------------------------------------------------------\n",
      "Extracted Phrase: un\n",
      "CUI: C0041701\n",
      "Definition: United Nations\n",
      "Semantic Type(s): [orgt]\n",
      "----------------------------------------------------------------------------------------------------\n",
      "Extracted Phrase: widowed\n",
      "CUI: C1510465\n",
      "Definition: Widow\n",
      "Semantic Type(s): [famg]\n",
      "----------------------------------------------------------------------------------------------------\n",
      "Extracted Phrase: widowed\n",
      "CUI: C0206275\n",
      "Definition: Widowhood\n",
      "Semantic Type(s): [fndg]\n",
      "----------------------------------------------------------------------------------------------------\n",
      "Extracted Phrase: alone\n",
      "CUI: C0439044\n",
      "Definition: Living Alone\n",
      "Semantic Type(s): [fndg]\n",
      "----------------------------------------------------------------------------------------------------\n",
      "Extracted Phrase: alone\n",
      "CUI: C0205171\n",
      "Definition: Singular\n",
      "Semantic Type(s): [qnco]\n",
      "----------------------------------------------------------------------------------------------------\n",
      "Extracted Phrase: alone\n",
      "CUI: C0679994\n",
      "Definition: alone - group size\n",
      "Semantic Type(s): [grpa]\n",
      "----------------------------------------------------------------------------------------------------\n"
     ]
    }
   ],
   "source": [
    "op_sdoh_cuis = ease.get_all_cuis(inp_reference='The patient is widowed and lives alone in [** Location (un) **]', \n",
    "                                 print_op=True, \n",
    "                                 verbose_flag=False,\n",
    "                                 ehr_flag=False)"
   ]
  },
  {
   "cell_type": "code",
   "execution_count": 7,
   "id": "forward-picnic",
   "metadata": {},
   "outputs": [
    {
     "data": {
      "text/html": [
       "<div>\n",
       "<style scoped>\n",
       "    .dataframe tbody tr th:only-of-type {\n",
       "        vertical-align: middle;\n",
       "    }\n",
       "\n",
       "    .dataframe tbody tr th {\n",
       "        vertical-align: top;\n",
       "    }\n",
       "\n",
       "    .dataframe thead th {\n",
       "        text-align: right;\n",
       "    }\n",
       "</style>\n",
       "<table border=\"1\" class=\"dataframe\">\n",
       "  <thead>\n",
       "    <tr style=\"text-align: right;\">\n",
       "      <th></th>\n",
       "      <th>CUI</th>\n",
       "      <th>LAT</th>\n",
       "      <th>TS</th>\n",
       "      <th>LUI</th>\n",
       "      <th>STT</th>\n",
       "      <th>SUI</th>\n",
       "      <th>ISPREF</th>\n",
       "      <th>AUI</th>\n",
       "      <th>SAUI</th>\n",
       "      <th>SCUI</th>\n",
       "      <th>SDUI</th>\n",
       "      <th>SAB</th>\n",
       "      <th>TTY</th>\n",
       "      <th>CODE</th>\n",
       "      <th>STR</th>\n",
       "      <th>SRL</th>\n",
       "      <th>SUPPRESS</th>\n",
       "      <th>CVF</th>\n",
       "    </tr>\n",
       "  </thead>\n",
       "  <tbody>\n",
       "    <tr>\n",
       "      <th>0</th>\n",
       "      <td>C1634625</td>\n",
       "      <td>ENG</td>\n",
       "      <td>S</td>\n",
       "      <td>L5854315</td>\n",
       "      <td>PF</td>\n",
       "      <td>S6683043</td>\n",
       "      <td>Y</td>\n",
       "      <td>A9402723</td>\n",
       "      <td>2573862019</td>\n",
       "      <td>419749002</td>\n",
       "      <td>None</td>\n",
       "      <td>SNOMEDCT_US</td>\n",
       "      <td>FN</td>\n",
       "      <td>419749002</td>\n",
       "      <td>% live (qualifier value)</td>\n",
       "      <td>9</td>\n",
       "      <td>N</td>\n",
       "      <td>NaN</td>\n",
       "    </tr>\n",
       "    <tr>\n",
       "      <th>1</th>\n",
       "      <td>C1634625</td>\n",
       "      <td>ENG</td>\n",
       "      <td>P</td>\n",
       "      <td>L1225075</td>\n",
       "      <td>PF</td>\n",
       "      <td>S6683045</td>\n",
       "      <td>Y</td>\n",
       "      <td>A9402725</td>\n",
       "      <td>2577169013</td>\n",
       "      <td>419749002</td>\n",
       "      <td>None</td>\n",
       "      <td>SNOMEDCT_US</td>\n",
       "      <td>PT</td>\n",
       "      <td>419749002</td>\n",
       "      <td>% live</td>\n",
       "      <td>9</td>\n",
       "      <td>N</td>\n",
       "      <td>256.0</td>\n",
       "    </tr>\n",
       "    <tr>\n",
       "      <th>2</th>\n",
       "      <td>C1634625</td>\n",
       "      <td>ENG</td>\n",
       "      <td>S</td>\n",
       "      <td>L5854314</td>\n",
       "      <td>PF</td>\n",
       "      <td>S6694961</td>\n",
       "      <td>Y</td>\n",
       "      <td>A9414672</td>\n",
       "      <td>2579979015</td>\n",
       "      <td>419749002</td>\n",
       "      <td>None</td>\n",
       "      <td>SNOMEDCT_US</td>\n",
       "      <td>SY</td>\n",
       "      <td>419749002</td>\n",
       "      <td>Percent live</td>\n",
       "      <td>9</td>\n",
       "      <td>N</td>\n",
       "      <td>NaN</td>\n",
       "    </tr>\n",
       "  </tbody>\n",
       "</table>\n",
       "</div>"
      ],
      "text/plain": [
       "        CUI  LAT TS       LUI STT       SUI ISPREF       AUI        SAUI  \\\n",
       "0  C1634625  ENG  S  L5854315  PF  S6683043      Y  A9402723  2573862019   \n",
       "1  C1634625  ENG  P  L1225075  PF  S6683045      Y  A9402725  2577169013   \n",
       "2  C1634625  ENG  S  L5854314  PF  S6694961      Y  A9414672  2579979015   \n",
       "\n",
       "        SCUI  SDUI          SAB TTY       CODE                       STR  SRL  \\\n",
       "0  419749002  None  SNOMEDCT_US  FN  419749002  % live (qualifier value)    9   \n",
       "1  419749002  None  SNOMEDCT_US  PT  419749002                    % live    9   \n",
       "2  419749002  None  SNOMEDCT_US  SY  419749002              Percent live    9   \n",
       "\n",
       "  SUPPRESS    CVF  \n",
       "0        N    NaN  \n",
       "1        N  256.0  \n",
       "2        N    NaN  "
      ]
     },
     "execution_count": 7,
     "metadata": {},
     "output_type": "execute_result"
    }
   ],
   "source": [
    "ease.get_data_cui(curr_cui='C1634625', config_json='config.json')"
   ]
  },
  {
   "cell_type": "code",
   "execution_count": 15,
   "id": "lined-accommodation",
   "metadata": {},
   "outputs": [
    {
     "data": {
      "text/html": [
       "<div>\n",
       "<style scoped>\n",
       "    .dataframe tbody tr th:only-of-type {\n",
       "        vertical-align: middle;\n",
       "    }\n",
       "\n",
       "    .dataframe tbody tr th {\n",
       "        vertical-align: top;\n",
       "    }\n",
       "\n",
       "    .dataframe thead th {\n",
       "        text-align: right;\n",
       "    }\n",
       "</style>\n",
       "<table border=\"1\" class=\"dataframe\">\n",
       "  <thead>\n",
       "    <tr style=\"text-align: right;\">\n",
       "      <th></th>\n",
       "      <th>CUI</th>\n",
       "      <th>LAT</th>\n",
       "      <th>TS</th>\n",
       "      <th>LUI</th>\n",
       "      <th>STT</th>\n",
       "      <th>SUI</th>\n",
       "      <th>ISPREF</th>\n",
       "      <th>AUI</th>\n",
       "      <th>SAUI</th>\n",
       "      <th>SCUI</th>\n",
       "      <th>SDUI</th>\n",
       "      <th>SAB</th>\n",
       "      <th>TTY</th>\n",
       "      <th>CODE</th>\n",
       "      <th>STR</th>\n",
       "      <th>SRL</th>\n",
       "      <th>SUPPRESS</th>\n",
       "      <th>CVF</th>\n",
       "    </tr>\n",
       "  </thead>\n",
       "  <tbody>\n",
       "    <tr>\n",
       "      <th>0</th>\n",
       "      <td>C0206275</td>\n",
       "      <td>ENG</td>\n",
       "      <td>P</td>\n",
       "      <td>L0250219</td>\n",
       "      <td>PF</td>\n",
       "      <td>S0328631</td>\n",
       "      <td>N</td>\n",
       "      <td>A0362532</td>\n",
       "      <td>None</td>\n",
       "      <td>M0026900</td>\n",
       "      <td>D017805</td>\n",
       "      <td>MSH</td>\n",
       "      <td>MH</td>\n",
       "      <td>D017805</td>\n",
       "      <td>Widowhood</td>\n",
       "      <td>0</td>\n",
       "      <td>N</td>\n",
       "      <td>256.0</td>\n",
       "    </tr>\n",
       "    <tr>\n",
       "      <th>1</th>\n",
       "      <td>C0206275</td>\n",
       "      <td>ENG</td>\n",
       "      <td>P</td>\n",
       "      <td>L0250219</td>\n",
       "      <td>PF</td>\n",
       "      <td>S0328631</td>\n",
       "      <td>N</td>\n",
       "      <td>A0362533</td>\n",
       "      <td>None</td>\n",
       "      <td>None</td>\n",
       "      <td>None</td>\n",
       "      <td>SNM</td>\n",
       "      <td>PT</td>\n",
       "      <td>F-97240</td>\n",
       "      <td>Widowhood</td>\n",
       "      <td>9</td>\n",
       "      <td>N</td>\n",
       "      <td>256.0</td>\n",
       "    </tr>\n",
       "    <tr>\n",
       "      <th>2</th>\n",
       "      <td>C0206275</td>\n",
       "      <td>ENG</td>\n",
       "      <td>P</td>\n",
       "      <td>L0250219</td>\n",
       "      <td>PF</td>\n",
       "      <td>S0328631</td>\n",
       "      <td>N</td>\n",
       "      <td>A0362534</td>\n",
       "      <td>None</td>\n",
       "      <td>None</td>\n",
       "      <td>None</td>\n",
       "      <td>SNMI</td>\n",
       "      <td>SY</td>\n",
       "      <td>S-11041</td>\n",
       "      <td>Widowhood</td>\n",
       "      <td>9</td>\n",
       "      <td>N</td>\n",
       "      <td>256.0</td>\n",
       "    </tr>\n",
       "    <tr>\n",
       "      <th>3</th>\n",
       "      <td>C0206275</td>\n",
       "      <td>ENG</td>\n",
       "      <td>S</td>\n",
       "      <td>L0405920</td>\n",
       "      <td>PF</td>\n",
       "      <td>S0413576</td>\n",
       "      <td>N</td>\n",
       "      <td>A0471791</td>\n",
       "      <td>None</td>\n",
       "      <td>None</td>\n",
       "      <td>None</td>\n",
       "      <td>RCD</td>\n",
       "      <td>PT</td>\n",
       "      <td>1335.</td>\n",
       "      <td>Widowed</td>\n",
       "      <td>3</td>\n",
       "      <td>N</td>\n",
       "      <td>256.0</td>\n",
       "    </tr>\n",
       "    <tr>\n",
       "      <th>4</th>\n",
       "      <td>C0206275</td>\n",
       "      <td>ENG</td>\n",
       "      <td>P</td>\n",
       "      <td>L0250219</td>\n",
       "      <td>VC</td>\n",
       "      <td>S0427397</td>\n",
       "      <td>Y</td>\n",
       "      <td>A0491748</td>\n",
       "      <td>None</td>\n",
       "      <td>None</td>\n",
       "      <td>1124-1123</td>\n",
       "      <td>CSP</td>\n",
       "      <td>PT</td>\n",
       "      <td>1124-1123</td>\n",
       "      <td>widowhood</td>\n",
       "      <td>0</td>\n",
       "      <td>N</td>\n",
       "      <td>256.0</td>\n",
       "    </tr>\n",
       "  </tbody>\n",
       "</table>\n",
       "</div>"
      ],
      "text/plain": [
       "        CUI  LAT TS       LUI STT       SUI ISPREF       AUI  SAUI      SCUI  \\\n",
       "0  C0206275  ENG  P  L0250219  PF  S0328631      N  A0362532  None  M0026900   \n",
       "1  C0206275  ENG  P  L0250219  PF  S0328631      N  A0362533  None      None   \n",
       "2  C0206275  ENG  P  L0250219  PF  S0328631      N  A0362534  None      None   \n",
       "3  C0206275  ENG  S  L0405920  PF  S0413576      N  A0471791  None      None   \n",
       "4  C0206275  ENG  P  L0250219  VC  S0427397      Y  A0491748  None      None   \n",
       "\n",
       "        SDUI   SAB TTY       CODE        STR  SRL SUPPRESS    CVF  \n",
       "0    D017805   MSH  MH    D017805  Widowhood    0        N  256.0  \n",
       "1       None   SNM  PT    F-97240  Widowhood    9        N  256.0  \n",
       "2       None  SNMI  SY    S-11041  Widowhood    9        N  256.0  \n",
       "3       None   RCD  PT      1335.    Widowed    3        N  256.0  \n",
       "4  1124-1123   CSP  PT  1124-1123  widowhood    0        N  256.0  "
      ]
     },
     "execution_count": 15,
     "metadata": {},
     "output_type": "execute_result"
    }
   ],
   "source": [
    "ease.get_data_cui(curr_cui='C0206275', config_json='config.json').head()"
   ]
  },
  {
   "cell_type": "code",
   "execution_count": 11,
   "id": "general-census",
   "metadata": {},
   "outputs": [
    {
     "data": {
      "text/html": [
       "<div>\n",
       "<style scoped>\n",
       "    .dataframe tbody tr th:only-of-type {\n",
       "        vertical-align: middle;\n",
       "    }\n",
       "\n",
       "    .dataframe tbody tr th {\n",
       "        vertical-align: top;\n",
       "    }\n",
       "\n",
       "    .dataframe thead th {\n",
       "        text-align: right;\n",
       "    }\n",
       "</style>\n",
       "<table border=\"1\" class=\"dataframe\">\n",
       "  <thead>\n",
       "    <tr style=\"text-align: right;\">\n",
       "      <th></th>\n",
       "      <th>CUI1</th>\n",
       "      <th>AUI1</th>\n",
       "      <th>STYPE1</th>\n",
       "      <th>REL</th>\n",
       "      <th>CUI2</th>\n",
       "      <th>AUI2</th>\n",
       "      <th>STYPE2</th>\n",
       "      <th>RELA</th>\n",
       "      <th>RUI</th>\n",
       "      <th>SRUI</th>\n",
       "      <th>SAB</th>\n",
       "      <th>SL</th>\n",
       "      <th>RG</th>\n",
       "      <th>DIR</th>\n",
       "      <th>SUPPRESS</th>\n",
       "      <th>CVF</th>\n",
       "    </tr>\n",
       "  </thead>\n",
       "  <tbody>\n",
       "    <tr>\n",
       "      <th>2</th>\n",
       "      <td>C1634625</td>\n",
       "      <td>None</td>\n",
       "      <td>CUI</td>\n",
       "      <td>RO</td>\n",
       "      <td>C1548795</td>\n",
       "      <td>None</td>\n",
       "      <td>CUI</td>\n",
       "      <td>None</td>\n",
       "      <td>R54598635</td>\n",
       "      <td>None</td>\n",
       "      <td>MTH</td>\n",
       "      <td>MTH</td>\n",
       "      <td>None</td>\n",
       "      <td>None</td>\n",
       "      <td>N</td>\n",
       "      <td>None</td>\n",
       "    </tr>\n",
       "  </tbody>\n",
       "</table>\n",
       "</div>"
      ],
      "text/plain": [
       "       CUI1  AUI1 STYPE1 REL      CUI2  AUI2 STYPE2  RELA        RUI  SRUI  \\\n",
       "2  C1634625  None    CUI  RO  C1548795  None    CUI  None  R54598635  None   \n",
       "\n",
       "   SAB   SL    RG   DIR SUPPRESS   CVF  \n",
       "2  MTH  MTH  None  None        N  None  "
      ]
     },
     "execution_count": 11,
     "metadata": {},
     "output_type": "execute_result"
    }
   ],
   "source": [
    "ease.are_they_connected(CUI1='C1634625', \n",
    "                        CUI2='C1548795',\n",
    "                        config_json='config.json')[1]"
   ]
  },
  {
   "cell_type": "code",
   "execution_count": 16,
   "id": "ruled-spiritual",
   "metadata": {},
   "outputs": [
    {
     "data": {
      "text/html": [
       "<div>\n",
       "<style scoped>\n",
       "    .dataframe tbody tr th:only-of-type {\n",
       "        vertical-align: middle;\n",
       "    }\n",
       "\n",
       "    .dataframe tbody tr th {\n",
       "        vertical-align: top;\n",
       "    }\n",
       "\n",
       "    .dataframe thead th {\n",
       "        text-align: right;\n",
       "    }\n",
       "</style>\n",
       "<table border=\"1\" class=\"dataframe\">\n",
       "  <thead>\n",
       "    <tr style=\"text-align: right;\">\n",
       "      <th></th>\n",
       "      <th>CUI</th>\n",
       "      <th>LAT</th>\n",
       "      <th>TS</th>\n",
       "      <th>LUI</th>\n",
       "      <th>STT</th>\n",
       "      <th>SUI</th>\n",
       "      <th>ISPREF</th>\n",
       "      <th>AUI</th>\n",
       "      <th>SAUI</th>\n",
       "      <th>SCUI</th>\n",
       "      <th>SDUI</th>\n",
       "      <th>SAB</th>\n",
       "      <th>TTY</th>\n",
       "      <th>CODE</th>\n",
       "      <th>STR</th>\n",
       "      <th>SRL</th>\n",
       "      <th>SUPPRESS</th>\n",
       "      <th>CVF</th>\n",
       "    </tr>\n",
       "  </thead>\n",
       "  <tbody>\n",
       "    <tr>\n",
       "      <th>0</th>\n",
       "      <td>C1548795</td>\n",
       "      <td>ENG</td>\n",
       "      <td>P</td>\n",
       "      <td>L10787549</td>\n",
       "      <td>PF</td>\n",
       "      <td>S13412386</td>\n",
       "      <td>Y</td>\n",
       "      <td>A20674063</td>\n",
       "      <td>None</td>\n",
       "      <td>None</td>\n",
       "      <td>None</td>\n",
       "      <td>MTH</td>\n",
       "      <td>PN</td>\n",
       "      <td>NOCODE</td>\n",
       "      <td>Live - Specimen Condition</td>\n",
       "      <td>0</td>\n",
       "      <td>N</td>\n",
       "      <td>256</td>\n",
       "    </tr>\n",
       "    <tr>\n",
       "      <th>1</th>\n",
       "      <td>C1548795</td>\n",
       "      <td>ENG</td>\n",
       "      <td>S</td>\n",
       "      <td>L1225075</td>\n",
       "      <td>PF</td>\n",
       "      <td>S6318468</td>\n",
       "      <td>Y</td>\n",
       "      <td>A8313836</td>\n",
       "      <td>None</td>\n",
       "      <td>None</td>\n",
       "      <td>None</td>\n",
       "      <td>HL7V2.5</td>\n",
       "      <td>PT</td>\n",
       "      <td>LIVE</td>\n",
       "      <td>Live</td>\n",
       "      <td>0</td>\n",
       "      <td>N</td>\n",
       "      <td>256</td>\n",
       "    </tr>\n",
       "  </tbody>\n",
       "</table>\n",
       "</div>"
      ],
      "text/plain": [
       "        CUI  LAT TS        LUI STT        SUI ISPREF        AUI  SAUI  SCUI  \\\n",
       "0  C1548795  ENG  P  L10787549  PF  S13412386      Y  A20674063  None  None   \n",
       "1  C1548795  ENG  S   L1225075  PF   S6318468      Y   A8313836  None  None   \n",
       "\n",
       "   SDUI      SAB TTY    CODE                        STR  SRL SUPPRESS  CVF  \n",
       "0  None      MTH  PN  NOCODE  Live - Specimen Condition    0        N  256  \n",
       "1  None  HL7V2.5  PT    LIVE                       Live    0        N  256  "
      ]
     },
     "execution_count": 16,
     "metadata": {},
     "output_type": "execute_result"
    }
   ],
   "source": [
    "ease.get_data_cui(curr_cui='C1548795', config_json='config.json').head()"
   ]
  },
  {
   "cell_type": "code",
   "execution_count": 13,
   "id": "martial-wallet",
   "metadata": {},
   "outputs": [
    {
     "data": {
      "text/plain": [
       "(False, [])"
      ]
     },
     "execution_count": 13,
     "metadata": {},
     "output_type": "execute_result"
    }
   ],
   "source": [
    "ease.are_they_connected(CUI1='C1634625', \n",
    "                        CUI2='C0206275',\n",
    "                        config_json='config.json')"
   ]
  },
  {
   "cell_type": "code",
   "execution_count": null,
   "id": "pleased-stewart",
   "metadata": {},
   "outputs": [],
   "source": []
  },
  {
   "cell_type": "code",
   "execution_count": null,
   "id": "contemporary-paradise",
   "metadata": {},
   "outputs": [],
   "source": []
  }
 ],
 "metadata": {
  "kernelspec": {
   "display_name": "Python 3",
   "language": "python",
   "name": "python3"
  },
  "language_info": {
   "codemirror_mode": {
    "name": "ipython",
    "version": 3
   },
   "file_extension": ".py",
   "mimetype": "text/x-python",
   "name": "python",
   "nbconvert_exporter": "python",
   "pygments_lexer": "ipython3",
   "version": "3.7.10"
  }
 },
 "nbformat": 4,
 "nbformat_minor": 5
}
